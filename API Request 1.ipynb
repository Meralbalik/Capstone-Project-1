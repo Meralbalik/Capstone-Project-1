{
 "cells": [
  {
   "cell_type": "markdown",
   "metadata": {},
   "source": [
    "# API Request 1"
   ]
  },
  {
   "cell_type": "code",
   "execution_count": 1,
   "metadata": {},
   "outputs": [],
   "source": [
    "import pandas as pd \n",
    "import requests\n",
    "from xml.etree import ElementTree as et\n",
    "\n",
    "df = pd.read_excel(\"cities in counties.xlsx\")\n",
    "cities = list(df['City'])\n",
    "\n",
    "df_cols = [\"City\", \"Sname\",\"Type\", \"gsId\", \"Lat\", \"Lon\",\"Enrollment\", \"gsRating\", \"ParentRating\"]\n",
    "out_df = pd.DataFrame()\n",
    "\n",
    "\n",
    "for  city in cities:\n",
    "    url = (\"https://api.greatschools.org/schools/CA/\"\n",
    "           +city+\"/high-schools?key=02c6a5f6dff835ee51bdebc9000aaa44\")\n",
    "    r = requests.get(url)\n",
    "    xml_data = r.content\n",
    "\n",
    "    #print('got results for county ', county)\n",
    "    \n",
    "    #parse xml data\n",
    "    root = et.fromstring(r.text)\n",
    "    tree = et.ElementTree(root)\n",
    "    tree.write(\"school2.xml\")\n",
    "\n",
    "    xtree = et.parse(\"school2.xml\")\n",
    "    xroot = xtree.getroot()\n",
    "    \n",
    "    rows = []\n",
    "\n",
    "    for node in xroot: \n",
    "        name = node.find(\"name\").text if node is not None else None\n",
    "        type_ = node.find(\"type\").text if node is not None else None\n",
    "        gsId = node.find(\"gsId\").text if node is not None else None\n",
    "        lat = node.find(\"lat\").text if node is not None else None\n",
    "        lon = node.find(\"lon\").text if node is not None else None\n",
    "        enrollment = node.findtext('enrollment') if node is not None else None\n",
    "        gsRating = node.findtext('gsRating') if node is not None else None\n",
    "        parentRating = node.findtext('parentRating') if node is not None else None\n",
    "        rows.append({\"City\": city, \"Sname\": name, \"Type\":type_,\n",
    "                     \"gsId\": gsId, \"Lat\": lat, \"Lon\": lon,\"Enrollment\": enrollment,\n",
    "                     \"gsRating\": gsRating, \"ParentRating\": parentRating})\n",
    "\n",
    "    temp_df = pd.DataFrame(rows, columns = df_cols)\n",
    "    \n",
    "    out_df = out_df.append(temp_df, ignore_index = True)"
   ]
  },
  {
   "cell_type": "code",
   "execution_count": 2,
   "metadata": {},
   "outputs": [
    {
     "data": {
      "text/plain": [
       "200"
      ]
     },
     "execution_count": 2,
     "metadata": {},
     "output_type": "execute_result"
    }
   ],
   "source": [
    "r.status_code"
   ]
  },
  {
   "cell_type": "code",
   "execution_count": 4,
   "metadata": {},
   "outputs": [
    {
     "data": {
      "text/html": [
       "<div>\n",
       "<style scoped>\n",
       "    .dataframe tbody tr th:only-of-type {\n",
       "        vertical-align: middle;\n",
       "    }\n",
       "\n",
       "    .dataframe tbody tr th {\n",
       "        vertical-align: top;\n",
       "    }\n",
       "\n",
       "    .dataframe thead th {\n",
       "        text-align: right;\n",
       "    }\n",
       "</style>\n",
       "<table border=\"1\" class=\"dataframe\">\n",
       "  <thead>\n",
       "    <tr style=\"text-align: right;\">\n",
       "      <th></th>\n",
       "      <th>City</th>\n",
       "      <th>Sname</th>\n",
       "      <th>Type</th>\n",
       "      <th>gsId</th>\n",
       "      <th>Lat</th>\n",
       "      <th>Lon</th>\n",
       "      <th>Enrollment</th>\n",
       "      <th>gsRating</th>\n",
       "      <th>ParentRating</th>\n",
       "    </tr>\n",
       "  </thead>\n",
       "  <tbody>\n",
       "    <tr>\n",
       "      <th>0</th>\n",
       "      <td>Alameda</td>\n",
       "      <td>Alameda Community Learning Center</td>\n",
       "      <td>charter</td>\n",
       "      <td>11902</td>\n",
       "      <td>37.779053</td>\n",
       "      <td>-122.28703</td>\n",
       "      <td>360</td>\n",
       "      <td>8</td>\n",
       "      <td>4</td>\n",
       "    </tr>\n",
       "    <tr>\n",
       "      <th>1</th>\n",
       "      <td>Alameda</td>\n",
       "      <td>Alameda High School</td>\n",
       "      <td>public</td>\n",
       "      <td>1</td>\n",
       "      <td>37.764294</td>\n",
       "      <td>-122.24807</td>\n",
       "      <td>1853</td>\n",
       "      <td>9</td>\n",
       "      <td>4</td>\n",
       "    </tr>\n",
       "    <tr>\n",
       "      <th>2</th>\n",
       "      <td>Alameda</td>\n",
       "      <td>Alameda Science And Technology Institute</td>\n",
       "      <td>public</td>\n",
       "      <td>14052</td>\n",
       "      <td>37.779884</td>\n",
       "      <td>-122.28052</td>\n",
       "      <td>175</td>\n",
       "      <td>10</td>\n",
       "      <td>4</td>\n",
       "    </tr>\n",
       "    <tr>\n",
       "      <th>3</th>\n",
       "      <td>Alameda</td>\n",
       "      <td>Applied Scholastics Academy, East Bay</td>\n",
       "      <td>private</td>\n",
       "      <td>17140</td>\n",
       "      <td>37.76968</td>\n",
       "      <td>-122.24931</td>\n",
       "      <td>13</td>\n",
       "      <td>None</td>\n",
       "      <td>5</td>\n",
       "    </tr>\n",
       "    <tr>\n",
       "      <th>4</th>\n",
       "      <td>Alameda</td>\n",
       "      <td>Children's Learning Center</td>\n",
       "      <td>private</td>\n",
       "      <td>10045</td>\n",
       "      <td>37.76858</td>\n",
       "      <td>-122.25329</td>\n",
       "      <td>None</td>\n",
       "      <td>None</td>\n",
       "      <td>5</td>\n",
       "    </tr>\n",
       "  </tbody>\n",
       "</table>\n",
       "</div>"
      ],
      "text/plain": [
       "      City                                     Sname     Type   gsId  \\\n",
       "0  Alameda         Alameda Community Learning Center  charter  11902   \n",
       "1  Alameda                       Alameda High School   public      1   \n",
       "2  Alameda  Alameda Science And Technology Institute   public  14052   \n",
       "3  Alameda     Applied Scholastics Academy, East Bay  private  17140   \n",
       "4  Alameda                Children's Learning Center  private  10045   \n",
       "\n",
       "         Lat         Lon Enrollment gsRating ParentRating  \n",
       "0  37.779053  -122.28703        360        8            4  \n",
       "1  37.764294  -122.24807       1853        9            4  \n",
       "2  37.779884  -122.28052        175       10            4  \n",
       "3   37.76968  -122.24931         13     None            5  \n",
       "4   37.76858  -122.25329       None     None            5  "
      ]
     },
     "execution_count": 4,
     "metadata": {},
     "output_type": "execute_result"
    }
   ],
   "source": [
    "out_df.head()"
   ]
  },
  {
   "cell_type": "code",
   "execution_count": 5,
   "metadata": {},
   "outputs": [
    {
     "data": {
      "text/plain": [
       "(4666, 9)"
      ]
     },
     "execution_count": 5,
     "metadata": {},
     "output_type": "execute_result"
    }
   ],
   "source": [
    "out_df.shape"
   ]
  },
  {
   "cell_type": "code",
   "execution_count": 6,
   "metadata": {},
   "outputs": [],
   "source": [
    "out_df = out_df.drop_duplicates(subset=['Lat','Lon'], keep='first')"
   ]
  },
  {
   "cell_type": "code",
   "execution_count": 7,
   "metadata": {},
   "outputs": [
    {
     "data": {
      "text/plain": [
       "(4271, 9)"
      ]
     },
     "execution_count": 7,
     "metadata": {},
     "output_type": "execute_result"
    }
   ],
   "source": [
    "out_df.shape"
   ]
  },
  {
   "cell_type": "code",
   "execution_count": 9,
   "metadata": {},
   "outputs": [],
   "source": [
    "# exporting data\n",
    "out_df.to_csv('school_gsid.csv')"
   ]
  },
  {
   "cell_type": "code",
   "execution_count": null,
   "metadata": {},
   "outputs": [],
   "source": []
  }
 ],
 "metadata": {
  "kernelspec": {
   "display_name": "Python 3",
   "language": "python",
   "name": "python3"
  },
  "language_info": {
   "codemirror_mode": {
    "name": "ipython",
    "version": 3
   },
   "file_extension": ".py",
   "mimetype": "text/x-python",
   "name": "python",
   "nbconvert_exporter": "python",
   "pygments_lexer": "ipython3",
   "version": "3.7.3"
  }
 },
 "nbformat": 4,
 "nbformat_minor": 2
}
